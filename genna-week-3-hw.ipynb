{
 "cells": [
  {
   "cell_type": "markdown",
   "id": "a50b15cc",
   "metadata": {},
   "source": [
    "## Q. 1\n",
    "You have a dataset that contains temperature data recorded daily over a month for a fictious city. Categorize the temperature into different levels based on the following conditions:\n",
    "\n",
    "- \"Cold\" if the temperature is 50°F and below.\n",
    "- \"Cool\" if the temperature is above 50°F but below 68°F.\n",
    "- \"Warm\" if the temperature is 68°F and above but less than 86°F.\n",
    "- \"Hot\" if the temperature is 86°F and above.\n",
    "\n",
    "Print the result in the format ```Temperature X°F: whatever Category```\n"
   ]
  },
  {
   "cell_type": "code",
   "execution_count": 1,
   "id": "8ac2e955",
   "metadata": {},
   "outputs": [],
   "source": [
    "### dataset of temperatures:\n",
    "\n",
    "temps = [ ]\n"
   ]
  },
  {
   "cell_type": "code",
   "execution_count": 15,
   "id": "66c0e600",
   "metadata": {},
   "outputs": [
    {
     "name": "stdout",
     "output_type": "stream",
     "text": [
      "'Temperature 66 F': 'Cool'\n",
      "'Temperature 67 F': 'Cool'\n",
      "'Temperature 68 F': 'Cool'\n",
      "'Temperature 72 F': 'Warm'\n",
      "'Temperature 73 F': 'Warm'\n",
      "'Temperature 75 F': 'Warm'\n",
      "'Temperature 77 F': 'Warm'\n",
      "'Temperature 78 F': 'Warm'\n",
      "'Temperature 81 F': 'Warm'\n",
      "'Temperature 82 F': 'Warm'\n",
      "'Temperature 85 F': 'Warm'\n",
      "'Temperature 87 F': 'Hot'\n",
      "'Temperature 89 F': 'Hot'\n",
      "'Temperature 90 F': 'Hot'\n",
      "'Temperature 91 F': 'Hot'\n",
      "'Temperature 40 F': 'Cold'\n",
      "'Temperature 44 F': 'Cold'\n",
      "'Temperature 45 F': 'Cold'\n",
      "'Temperature 47 F': 'Cold'\n",
      "'Temperature 48 F': 'Cold'\n",
      "'Temperature 49 F': 'Cold'\n",
      "'Temperature 52 F': 'Cool'\n",
      "'Temperature 53 F': 'Cool'\n",
      "'Temperature 55 F': 'Cool'\n",
      "'Temperature 56 F': 'Cool'\n",
      "'Temperature 58 F': 'Cool'\n",
      "'Temperature 59 F': 'Cool'\n",
      "'Temperature 60 F': 'Cool'\n",
      "'Temperature 62 F': 'Cool'\n",
      "'Temperature 63 F': 'Cool'\n",
      "[]\n"
     ]
    }
   ],
   "source": [
    "## code it here \n",
    "temps_sentences = []\n",
    "\n",
    "for temp in temps: \n",
    "    if temp <= 50:\n",
    "        print(f\"'Temperature {temp} F': 'Cold'\")\n",
    "    elif 51 <= temp <= 68:\n",
    "        print(f\"'Temperature {temp} F': 'Cool'\")\n",
    "    elif 69 <= temp <= 86:\n",
    "        print(f\"'Temperature {temp} F': 'Warm'\")\n",
    "    else:\n",
    "        print(f\"'Temperature {temp} F': 'Hot'\") \n",
    "\n",
    "print(temps_sentences)"
   ]
  },
  {
   "cell_type": "markdown",
   "id": "ea7e9b9c",
   "metadata": {},
   "source": [
    "## Q. 2\n",
    "\n",
    "Now instead of printing the results, create a list of dictionaries in which each dictionary holds the key-value pairs of ```{\"temp\": temp_value}```"
   ]
  },
  {
   "cell_type": "code",
   "execution_count": 17,
   "id": "0947a342",
   "metadata": {},
   "outputs": [
    {
     "data": {
      "text/plain": [
       "{'Temperature 66 F': 'Cool',\n",
       " 'Temperature 67 F': 'Cool',\n",
       " 'Temperature 68 F': 'Cool',\n",
       " 'Temperature 72 F': 'Warm',\n",
       " 'Temperature 73 F': 'Warm',\n",
       " 'Temperature 75 F': 'Warm',\n",
       " 'Temperature 77 F': 'Warm',\n",
       " 'Temperature 78 F': 'Warm',\n",
       " 'Temperature 81 F': 'Warm',\n",
       " 'Temperature 82 F': 'Warm',\n",
       " 'Temperature 85 F': 'Warm',\n",
       " 'Temperature 87 F': 'Hot',\n",
       " 'Temperature 89 F': 'Hot',\n",
       " 'Temperature 90 F': 'Hot',\n",
       " 'Temperature 91 F': 'Hot',\n",
       " 'Temperature 40 F': 'Cold',\n",
       " 'Temperature 44 F': 'Cold',\n",
       " 'Temperature 45 F': 'Cold',\n",
       " 'Temperature 47 F': 'Cold',\n",
       " 'Temperature 48 F': 'Cold',\n",
       " 'Temperature 49 F': 'Cold',\n",
       " 'Temperature 52 F': 'Cool',\n",
       " 'Temperature 53 F': 'Cool',\n",
       " 'Temperature 55 F': 'Cool',\n",
       " 'Temperature 56 F': 'Cool',\n",
       " 'Temperature 58 F': 'Cool',\n",
       " 'Temperature 59 F': 'Cool',\n",
       " 'Temperature 60 F': 'Cool',\n",
       " 'Temperature 62 F': 'Cool',\n",
       " 'Temperature 63 F': 'Cool'}"
      ]
     },
     "execution_count": 17,
     "metadata": {},
     "output_type": "execute_result"
    }
   ],
   "source": [
    "temp_value = {\n",
    "    'Temperature 66 F': 'Cool',\n",
    "    'Temperature 67 F': 'Cool',\n",
    "    'Temperature 68 F': 'Cool',\n",
    "    'Temperature 72 F': 'Warm',\n",
    "    'Temperature 73 F': 'Warm',\n",
    "    'Temperature 75 F': 'Warm',\n",
    "    'Temperature 77 F': 'Warm',\n",
    "    'Temperature 78 F': 'Warm',\n",
    "    'Temperature 81 F': 'Warm',\n",
    "    'Temperature 82 F': 'Warm',\n",
    "    'Temperature 85 F': 'Warm',\n",
    "    'Temperature 87 F': 'Hot',\n",
    "    'Temperature 89 F': 'Hot',\n",
    "    'Temperature 90 F': 'Hot',\n",
    "    'Temperature 91 F': 'Hot',\n",
    "    'Temperature 40 F': 'Cold',\n",
    "    'Temperature 44 F': 'Cold',\n",
    "    'Temperature 45 F': 'Cold',\n",
    "    'Temperature 47 F': 'Cold',\n",
    "    'Temperature 48 F': 'Cold',\n",
    "    'Temperature 49 F': 'Cold',\n",
    "    'Temperature 52 F': 'Cool',\n",
    "    'Temperature 53 F': 'Cool',\n",
    "    'Temperature 55 F': 'Cool',\n",
    "    'Temperature 56 F': 'Cool',\n",
    "    'Temperature 58 F': 'Cool',\n",
    "    'Temperature 59 F': 'Cool',\n",
    "    'Temperature 60 F': 'Cool',\n",
    "    'Temperature 62 F': 'Cool',\n",
    "    'Temperature 63 F': 'Cool',\n",
    "    }\n",
    "\n",
    "temp_value"
   ]
  },
  {
   "cell_type": "markdown",
   "id": "46a15fb0",
   "metadata": {},
   "source": [
    "## Q. 3\n",
    "\n",
    "You have several lists that hold related data points. **Dynamically** create a list of dictionaries that hold each as a set of values. For example, your list of dictionaries should look like:\n",
    "\n",
    "```[{\"first_name\": \"Irene\", \"last_name\": \"Rosenfeld\", \"title\": \"Chair and CEO\", \"company\": \"Kraft Foods\", \"industry\": \"Food and Beverage\"}, ...NEXT dictionary]```\n",
    "\n",
    "**Dynamically** means don't manually create the dictionaries. Use programming to create your dictionaries."
   ]
  },
  {
   "cell_type": "code",
   "execution_count": null,
   "id": "b88860fe",
   "metadata": {},
   "outputs": [],
   "source": [
    "## ##  RUN THIS CELL - \n",
    "## Here we have a list of CEOs and their relevant data points.\n",
    "first_names = [\"Irene\", \"Ursula\", \"Elon\", \"Tim\"]\n",
    "last_names = [\"Rosenfeld\", \"Burns\", \"Musk\", \"Cook\"]\n",
    "titles = [\"Chair and CEO\", \"Chair and CEO\", \"CEO\", \"CEO\"]\n",
    "companies = [\"Kraft Foods\", \"Xerox\", \"Tesla\", \"Apple\"]\n",
    "industries = [\"Food and Beverage\", \"Process and Document Management\",\n",
    "              \"Auto Manufacturing\", \"Consumer Technology\"]"
   ]
  },
  {
   "cell_type": "code",
   "execution_count": 29,
   "id": "49d85a56",
   "metadata": {},
   "outputs": [
    {
     "ename": "ValueError",
     "evalue": "dictionary update sequence element #0 has length 5; 2 is required",
     "output_type": "error",
     "traceback": [
      "\u001b[0;31m---------------------------------------------------------------------------\u001b[0m",
      "\u001b[0;31mValueError\u001b[0m                                Traceback (most recent call last)",
      "Cell \u001b[0;32mIn[29], line 9\u001b[0m\n\u001b[1;32m      5\u001b[0m companies \u001b[38;5;241m=\u001b[39m [\u001b[38;5;124m\"\u001b[39m\u001b[38;5;124mKraft Foods\u001b[39m\u001b[38;5;124m\"\u001b[39m, \u001b[38;5;124m\"\u001b[39m\u001b[38;5;124mXerox\u001b[39m\u001b[38;5;124m\"\u001b[39m, \u001b[38;5;124m\"\u001b[39m\u001b[38;5;124mTesla\u001b[39m\u001b[38;5;124m\"\u001b[39m, \u001b[38;5;124m\"\u001b[39m\u001b[38;5;124mApple\u001b[39m\u001b[38;5;124m\"\u001b[39m]\n\u001b[1;32m      6\u001b[0m industries \u001b[38;5;241m=\u001b[39m [\u001b[38;5;124m\"\u001b[39m\u001b[38;5;124mFood and Beverage\u001b[39m\u001b[38;5;124m\"\u001b[39m, \u001b[38;5;124m\"\u001b[39m\u001b[38;5;124mProcess and Document Management\u001b[39m\u001b[38;5;124m\"\u001b[39m,\n\u001b[1;32m      7\u001b[0m                     \u001b[38;5;124m\"\u001b[39m\u001b[38;5;124mAuto Manufacturing\u001b[39m\u001b[38;5;124m\"\u001b[39m, \u001b[38;5;124m\"\u001b[39m\u001b[38;5;124mConsumer Technology\u001b[39m\u001b[38;5;124m\"\u001b[39m]\n\u001b[0;32m----> 9\u001b[0m variations \u001b[38;5;241m=\u001b[39m \u001b[38;5;28;43mdict\u001b[39;49m\u001b[43m(\u001b[49m\u001b[38;5;28;43mzip\u001b[39;49m\u001b[43m(\u001b[49m\u001b[43mfirst_names\u001b[49m\u001b[43m,\u001b[49m\u001b[43mlast_names\u001b[49m\u001b[43m,\u001b[49m\u001b[43mtitles\u001b[49m\u001b[43m,\u001b[49m\u001b[43mcompanies\u001b[49m\u001b[43m,\u001b[49m\u001b[43mindustries\u001b[49m\u001b[43m)\u001b[49m\u001b[43m)\u001b[49m\n\u001b[1;32m     10\u001b[0m \u001b[38;5;28mprint\u001b[39m(updated_variations)\n",
      "\u001b[0;31mValueError\u001b[0m: dictionary update sequence element #0 has length 5; 2 is required"
     ]
    }
   ],
   "source": [
    "## code it here\n",
    "variations = {\n",
    "    'first_names':{\"Irene\", \"Ursula\", \"Elon\", \"Tim\"},\n",
    "    'last_names':{\"Rosenfeld\", \"Burns\", \"Musk\", \"Cook\"},\n",
    "    'titles':{\"Chair and CEO\", \"Chair and CEO\", \"CEO\", \"CEO\"},\n",
    "    'companies':{\"Kraft Foods\", \"Xerox\", \"Tesla\", \"Apple\"},\n",
    "    'industries':{\"Food and Beverage\", \"Process and Document Management\",\n",
    "                    \"Auto Manufacturing\", \"Consumer Technology\"}\n",
    "}\n",
    "\n",
    "for = dict(zip('first_names','last_names','titles','companies','industries'))\n",
    "print(updated_variations)"
   ]
  },
  {
   "cell_type": "code",
   "execution_count": 25,
   "id": "911eb172-87c5-468a-9499-e6ab18a66c59",
   "metadata": {},
   "outputs": [
    {
     "data": {
      "text/plain": [
       "{'first_names': {'Elon', 'Irene', 'Tim', 'Ursula'},\n",
       " 'last_names': {'Burns', 'Cook', 'Musk', 'Rosenfeld'},\n",
       " 'titles': {'CEO', 'Chair and CEO'},\n",
       " 'companies': {'Apple', 'Kraft Foods', 'Tesla', 'Xerox'},\n",
       " 'industries': {'Auto Manufacturing',\n",
       "  'Consumer Technology',\n",
       "  'Food and Beverage',\n",
       "  'Process and Document Management'}}"
      ]
     },
     "execution_count": 25,
     "metadata": {},
     "output_type": "execute_result"
    }
   ],
   "source": [
    "variations"
   ]
  },
  {
   "cell_type": "code",
   "execution_count": 26,
   "id": "9ceafc7e-e769-4cad-b927-865e94d63bac",
   "metadata": {},
   "outputs": [],
   "source": [
    "import pandas as pd"
   ]
  },
  {
   "cell_type": "code",
   "execution_count": null,
   "id": "08fb894c-7b54-4a1b-a45c-91b34be35b1e",
   "metadata": {},
   "outputs": [],
   "source": []
  },
  {
   "cell_type": "code",
   "execution_count": null,
   "id": "7c24c300-a9cc-4a76-8941-082f6b8bdda2",
   "metadata": {},
   "outputs": [],
   "source": []
  }
 ],
 "metadata": {
  "kernelspec": {
   "display_name": "Python 3 (ipykernel)",
   "language": "python",
   "name": "python3"
  },
  "language_info": {
   "codemirror_mode": {
    "name": "ipython",
    "version": 3
   },
   "file_extension": ".py",
   "mimetype": "text/x-python",
   "name": "python",
   "nbconvert_exporter": "python",
   "pygments_lexer": "ipython3",
   "version": "3.12.2"
  }
 },
 "nbformat": 4,
 "nbformat_minor": 5
}
